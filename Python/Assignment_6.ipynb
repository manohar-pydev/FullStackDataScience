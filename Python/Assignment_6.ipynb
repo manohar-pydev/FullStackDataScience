{
 "cells": [
  {
   "cell_type": "markdown",
   "id": "c55a6a41",
   "metadata": {},
   "source": [
    "1. What are escape characters, and how do you use them?"
   ]
  },
  {
   "cell_type": "markdown",
   "id": "c7268ed9",
   "metadata": {},
   "source": [
    "       Escape characters are the charecters which allows us to use the non permitted character inside the string.\n",
    "       We can use them by adding a backslash(/) before the character we want to insert."
   ]
  },
  {
   "cell_type": "markdown",
   "id": "8bd36ea2",
   "metadata": {},
   "source": [
    "2. What do the escape characters n and t stand for?"
   ]
  },
  {
   "cell_type": "markdown",
   "id": "51eab8dd",
   "metadata": {},
   "source": [
    "    '\\n' stands for new line and '\\t' stands for an one tab space"
   ]
  },
  {
   "cell_type": "markdown",
   "id": "204b41bf",
   "metadata": {},
   "source": [
    "3. What is the way to include backslash characters in a string?"
   ]
  },
  {
   "cell_type": "markdown",
   "id": "0c35c40a",
   "metadata": {},
   "source": [
    "    we can use backslash characters in a string by adding \\ in front of the character.\n",
    "    Eg: \"Full stack Data science is Ineuron\\'s course.\""
   ]
  },
  {
   "cell_type": "markdown",
   "id": "442b0352",
   "metadata": {},
   "source": [
    "4. The string \"Howl's Moving Castle\" is a correct value. Why isn't the single quote character in the\n",
    "word Howl's not escaped a problem?"
   ]
  },
  {
   "cell_type": "markdown",
   "id": "321c59be",
   "metadata": {},
   "source": [
    "    Because we need to add backslash before single quotes \"Howl\\'s Moving Castle\""
   ]
  },
  {
   "cell_type": "markdown",
   "id": "b06851f4",
   "metadata": {},
   "source": [
    "5. How do you write a string of newlines if you don't want to use the n character?"
   ]
  },
  {
   "cell_type": "markdown",
   "id": "899b3dde",
   "metadata": {},
   "source": [
    "    We can write the string inside triple quotes if we dont want to use n character \n",
    "    \"\"\" This is the first line\n",
    "        This is second line\n",
    "        This is third line\n",
    "    \"\"\""
   ]
  },
  {
   "cell_type": "markdown",
   "id": "e5300f51",
   "metadata": {},
   "source": [
    "6. What are the values of the given expressions?\n",
    "\n",
    "\n",
    "    'Hello, world!'[1] = e\n",
    "    'Hello, world!'[0:5] = Hello\n",
    "    'Hello, world!'[:5] = Hello\n",
    "    'Hello, world![3:] = o, world!"
   ]
  },
  {
   "cell_type": "markdown",
   "id": "4c78649b",
   "metadata": {},
   "source": [
    "7. What are the values of the following expressions?\n",
    "    \n",
    "        'Hello'.upper() ---> HELLO\n",
    "        'Hello'.upper().isupper() -->True\n",
    "        'Hello'.upper().lower() ---> hello"
   ]
  },
  {
   "cell_type": "markdown",
   "id": "37cd2755",
   "metadata": {},
   "source": [
    "8. What are the values of the following expressions?\n",
    "\n",
    "\n",
    "    'Remember, remember, the fifth of July.'.split() --->['Remember,', 'remember,','the','fifth', 'of', 'July.']\n",
    "    '-'.join('There can only one'.split())--->'There-can-only-one'"
   ]
  },
  {
   "cell_type": "markdown",
   "id": "22128c75",
   "metadata": {},
   "source": [
    "9. What are the methods for right-justifying, left-justifying, and centering a string?\n",
    "\n",
    "        string = \" This is a string\" \n",
    "        string.ljust(10,'-')\n",
    "        string.rjust(10,'-')\n",
    "        string.center(10,'-')"
   ]
  },
  {
   "cell_type": "markdown",
   "id": "001388c6",
   "metadata": {},
   "source": [
    "10. What is the best way to remove whitespace characters from the start or end?\n",
    "        we can remove whitespace characters using str.lstrip() str.rstrip() methods"
   ]
  },
  {
   "cell_type": "code",
   "execution_count": null,
   "id": "cee34271",
   "metadata": {},
   "outputs": [],
   "source": []
  }
 ],
 "metadata": {
  "kernelspec": {
   "display_name": "Python 3 (ipykernel)",
   "language": "python",
   "name": "python3"
  },
  "language_info": {
   "codemirror_mode": {
    "name": "ipython",
    "version": 3
   },
   "file_extension": ".py",
   "mimetype": "text/x-python",
   "name": "python",
   "nbconvert_exporter": "python",
   "pygments_lexer": "ipython3",
   "version": "3.9.13"
  }
 },
 "nbformat": 4,
 "nbformat_minor": 5
}
