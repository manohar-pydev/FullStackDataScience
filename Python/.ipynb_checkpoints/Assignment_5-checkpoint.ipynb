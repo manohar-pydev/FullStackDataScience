{
 "cells": [
  {
   "cell_type": "markdown",
   "id": "1fa05106",
   "metadata": {},
   "source": [
    "1. What does an empty dictionary's code look like?"
   ]
  },
  {
   "cell_type": "markdown",
   "id": "04724cc7",
   "metadata": {},
   "source": [
    "    An Empty dictionary can be created using temp={}"
   ]
  },
  {
   "cell_type": "markdown",
   "id": "142b7b31",
   "metadata": {},
   "source": [
    "2. What is the value of a dictionary value with the key 'foo' and the value 42?"
   ]
  },
  {
   "cell_type": "markdown",
   "id": "c58baeb3",
   "metadata": {},
   "source": [
    "    A dictionary with key as 'foo' and value as 42 can be represented as \n",
    "    dictionary = {'foo':42}"
   ]
  },
  {
   "cell_type": "markdown",
   "id": "6731bd5b",
   "metadata": {},
   "source": [
    "3. What is the most significant distinction between a dictionary and a list?"
   ]
  },
  {
   "cell_type": "markdown",
   "id": "c40c305a",
   "metadata": {},
   "source": [
    "    The Most significant distinction between list and dictionary is the items in dictionary are stored as key:value pairs.\n",
    "     The list items can be accessed using indexing the list while the dictionary items can be accessed using the keys.   "
   ]
  },
  {
   "cell_type": "markdown",
   "id": "20e2b379",
   "metadata": {},
   "source": [
    "4. What happens if you try to access spam['foo'] if spam is {'bar': 100}?"
   ]
  },
  {
   "cell_type": "markdown",
   "id": "3954e143",
   "metadata": {},
   "source": [
    "    KeyError is raised when we try to access a key which is not present in the dictionary"
   ]
  },
  {
   "cell_type": "markdown",
   "id": "8a571cd8",
   "metadata": {},
   "source": [
    "5. If a dictionary is stored in spam, what is the difference between the expressions 'cat' in spam and\n",
    "'cat' in spam.keys()?"
   ]
  },
  {
   "cell_type": "markdown",
   "id": "4e6fbfa8",
   "metadata": {},
   "source": [
    "    There is no difference as 'cat' in spam checks for the key named 'cat' inside that dictionary, the same is done by 'cat' in spam.keys()"
   ]
  },
  {
   "cell_type": "markdown",
   "id": "9731f0fc",
   "metadata": {},
   "source": [
    "7. What is a shortcut for the following code? \n",
    "if 'color' not in spam:\n",
    "    spam['color'] = 'black'"
   ]
  },
  {
   "cell_type": "markdown",
   "id": "f782eb3d",
   "metadata": {},
   "source": [
    "    spam.setdefault(\"color\", \"black\")"
   ]
  },
  {
   "cell_type": "markdown",
   "id": "7986e24f",
   "metadata": {},
   "source": [
    "8. How do you \"pretty print\" dictionary values using which module and function?"
   ]
  },
  {
   "cell_type": "markdown",
   "id": "98a07799",
   "metadata": {},
   "source": [
    "        we can \"pretty print\" dictionary values using \"pprint\" module and pprint.pprint() function"
   ]
  },
  {
   "cell_type": "code",
   "execution_count": null,
   "id": "8ec714c0",
   "metadata": {},
   "outputs": [],
   "source": []
  }
 ],
 "metadata": {
  "kernelspec": {
   "display_name": "Python 3 (ipykernel)",
   "language": "python",
   "name": "python3"
  },
  "language_info": {
   "codemirror_mode": {
    "name": "ipython",
    "version": 3
   },
   "file_extension": ".py",
   "mimetype": "text/x-python",
   "name": "python",
   "nbconvert_exporter": "python",
   "pygments_lexer": "ipython3",
   "version": "3.9.13"
  }
 },
 "nbformat": 4,
 "nbformat_minor": 5
}
