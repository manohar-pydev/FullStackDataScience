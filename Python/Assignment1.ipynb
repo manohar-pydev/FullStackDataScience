{
 "cells": [
  {
   "cell_type": "markdown",
   "metadata": {},
   "source": [
    "1. In the below elements which of them are values or an expression? eg:- values can be\n",
    "integer or string and expressions will be mathematical operators.\n",
    "*\n",
    "&#39;hello&#39;\n",
    "-87.8\n",
    "-\n",
    "/\n",
    "+\n",
    "6"
   ]
  },
  {
   "cell_type": "markdown",
   "metadata": {},
   "source": [
    "Values = {'hello',-87.8,6}\n",
    "Expressions = {*,-,/,+}"
   ]
  },
  {
   "cell_type": "code",
   "execution_count": null,
   "metadata": {},
   "outputs": [],
   "source": []
  },
  {
   "cell_type": "markdown",
   "metadata": {},
   "source": [
    "2.What is the difference between string and variable?"
   ]
  },
  {
   "cell_type": "markdown",
   "metadata": {},
   "source": [
    "        String is a group of letters and is a type of data wheras  , variable is something where we can store any kind of data like string,integer,float etc"
   ]
  },
  {
   "cell_type": "markdown",
   "metadata": {},
   "source": [
    "3.Describe three different data types."
   ]
  },
  {
   "cell_type": "markdown",
   "metadata": {},
   "source": [
    "     - Integer datatype - which is used to represent whole numbers.                Eg:1,5,10,1200\n",
    "     - Float datatype - which is used tp represent decimal numbers.\n",
    "       Eg- 12.5,13.8\n",
    "     - String datatype -  which represents group of alphabets.\n",
    "       Eg: \"Ram\",\"vegetable\"\n",
    "     - Complex datatype -  which represents complex numbers.\n",
    "       Eg: 3+2j,4+5j\n",
    "     - List - mutable datatype, which can hold different of datas.\n",
    "       Eg: [\"abc\",1,\"pqr\"]\n",
    "     - Tuple- immutable datatype, which can hold different types of data.\n",
    "       Eg:(\"abc\",\"pqr\",12)\n",
    "      \n",
    "     "
   ]
  },
  {
   "cell_type": "markdown",
   "metadata": {},
   "source": [
    "4. What is an expression made up of? What do all expressions do?"
   ]
  },
  {
   "cell_type": "markdown",
   "metadata": {},
   "source": [
    "    -An expression is made of operator and operands which performs some operation like addition, subtraction, multiplication, division\n",
    "     Eg: a + b = 5 where \"a and b\" are operands and '+' is an operator."
   ]
  },
  {
   "cell_type": "markdown",
   "metadata": {},
   "source": [
    "5. This assignment statements, like spam = 10. What is the difference between an expression and a statement?"
   ]
  },
  {
   "cell_type": "markdown",
   "metadata": {},
   "source": [
    "    - An assignment statement assigns a value to the variable, but doesnot performs any operation.\n",
    "    - An expression performs operation on the operands and provides a result."
   ]
  },
  {
   "cell_type": "markdown",
   "metadata": {},
   "source": [
    "6. After running the following code, what does the variable bacon contain?\n",
    "bacon = 22\n",
    "bacon + 1"
   ]
  },
  {
   "cell_type": "markdown",
   "metadata": {},
   "source": [
    "     - After running the code variable bacon contains value 22, since the incremented value is not stored in the same variable."
   ]
  },
  {
   "cell_type": "markdown",
   "metadata": {},
   "source": [
    "7. What should the values of the following two terms be?\n",
    "   - 'spam'+'spamspam'\n",
    "   - 'spam'*3\n",
    "    "
   ]
  },
  {
   "cell_type": "markdown",
   "metadata": {},
   "source": [
    "    - output will be \"spamspamspam\" in both cases"
   ]
  },
  {
   "cell_type": "markdown",
   "metadata": {},
   "source": [
    "8. Why is eggs a valid variable name while 100 is invalid?"
   ]
  },
  {
   "cell_type": "markdown",
   "metadata": {},
   "source": [
    "    - While declaring a variable some of the rules has to be followed they are as follows.\n",
    "        - A variable name should start with letter or underscore.\n",
    "        - keywords cannot be used as variable names\n",
    "     Hence \"eggs\" starts with letter and is not a keyword hence it is a valid variable name.\n",
    "     but 100 starts with number hence it is not a valid variable_name."
   ]
  },
  {
   "cell_type": "markdown",
   "metadata": {},
   "source": [
    "9. What three functions can be used to get the integer, floating-point number, or string version of a value?"
   ]
  },
  {
   "cell_type": "markdown",
   "metadata": {},
   "source": [
    "    - int()- to get integer version of value\n",
    "    - float() - to get floating point number\n",
    "    -str() - to get string version of value"
   ]
  },
  {
   "cell_type": "markdown",
   "metadata": {},
   "source": [
    "10. Why does this expression cause an error? How can you fix it?\n",
    "'I have eaten'+ 99 +'burritos.'"
   ]
  },
  {
   "cell_type": "markdown",
   "metadata": {},
   "source": [
    "    -This line will cause error because 99 has datatype of integer and others have string type. It's not possible to concatinate integer type and string type directly . Hence this causes Error"
   ]
  },
  {
   "cell_type": "code",
   "execution_count": null,
   "metadata": {},
   "outputs": [],
   "source": []
  }
 ],
 "metadata": {
  "kernelspec": {
   "display_name": "Python 3",
   "language": "python",
   "name": "python3"
  },
  "language_info": {
   "codemirror_mode": {
    "name": "ipython",
    "version": 3
   },
   "file_extension": ".py",
   "mimetype": "text/x-python",
   "name": "python",
   "nbconvert_exporter": "python",
   "pygments_lexer": "ipython3",
   "version": "3.7.4"
  }
 },
 "nbformat": 4,
 "nbformat_minor": 2
}
